{
 "cells": [
  {
   "cell_type": "code",
   "execution_count": 1,
   "id": "a5ea2d76",
   "metadata": {},
   "outputs": [
    {
     "name": "stdout",
     "output_type": "stream",
     "text": [
      "Jupyter environment detected. Enabling Open3D WebVisualizer.\n",
      "[Open3D INFO] WebRTC GUI backend enabled.\n",
      "[Open3D INFO] WebRTCWindowSystem: HTTP handshake server disabled.\n"
     ]
    }
   ],
   "source": [
    "import open3d as o3d\n",
    "import viser\n",
    "import numpy as np\n",
    "from typing import Sequence\n",
    "\n"
   ]
  },
  {
   "cell_type": "code",
   "execution_count": 2,
   "id": "11e54494",
   "metadata": {},
   "outputs": [],
   "source": [
    "# Importing the Fruit\n",
    "fruit = o3d.io.read_point_cloud(\"/workspace/Desktop/RadianceClouds/SynthBinRGBData/exports/fruits/fruit_1.ply\")\n"
   ]
  },
  {
   "cell_type": "code",
   "execution_count": 3,
   "id": "4abba831",
   "metadata": {},
   "outputs": [
    {
     "name": "stdout",
     "output_type": "stream",
     "text": [
      "PointCloud with 1523 points.\n"
     ]
    }
   ],
   "source": [
    "print(fruit)"
   ]
  },
  {
   "cell_type": "code",
   "execution_count": 4,
   "id": "bdbcaf2b",
   "metadata": {},
   "outputs": [
    {
     "name": "stdout",
     "output_type": "stream",
     "text": [
      "AxisAlignedBoundingBox: min: (-0.00586154, -0.00898418, -0.00778211), max: (0.00743946, 0.00681952, 0.00679489)\n",
      "[-0.00586154 -0.00898418 -0.00778211] [0.00743946 0.00681952 0.00679489]\n"
     ]
    }
   ],
   "source": [
    "# Translation to origin\n",
    "fruit.translate(-np.asarray(fruit.get_center()))\n",
    "\n",
    "# Computing Axis Aligned Bounding Box\n",
    "aabb = fruit.get_axis_aligned_bounding_box()\n",
    "print(aabb)\n",
    "print(aabb.min_bound, aabb.max_bound)"
   ]
  },
  {
   "cell_type": "code",
   "execution_count": 5,
   "id": "053c67f1",
   "metadata": {},
   "outputs": [],
   "source": [
    "def add_box_by_corners(\n",
    "    scene,\n",
    "    name: str,\n",
    "    aabb: o3d.geometry.AxisAlignedBoundingBox,\n",
    "    color=(255,0,0),\n",
    "    **kwargs\n",
    "):\n",
    "    # Convert to arrays\n",
    "    a = np.asarray(aabb.min_bound, dtype=float)\n",
    "    b = np.asarray(aabb.max_bound, dtype=float)\n",
    "    # Compute center and size\n",
    "    center = (a + b) / 2.0\n",
    "    dimensions = np.abs(b - a)\n",
    "    # Add the box\n",
    "    return scene.add_box(\n",
    "        name=name,\n",
    "        color=color,\n",
    "        dimensions=tuple(dimensions),\n",
    "        position=tuple(center),\n",
    "        **kwargs\n",
    "    )"
   ]
  },
  {
   "cell_type": "code",
   "execution_count": 6,
   "id": "6e837576",
   "metadata": {},
   "outputs": [
    {
     "data": {
      "text/html": [
       "<pre style=\"white-space:pre;overflow-x:auto;line-height:normal;font-family:Menlo,'DejaVu Sans Mono',consolas,'Courier New',monospace\">╭─────────────── <span style=\"font-weight: bold\">viser</span> ───────────────╮\n",
       "│             ╷                       │\n",
       "│   HTTP      │ http://0.0.0.0:7007   │\n",
       "│   Websocket │ ws://0.0.0.0:7007     │\n",
       "│             ╵                       │\n",
       "╰─────────────────────────────────────╯\n",
       "</pre>\n"
      ],
      "text/plain": [
       "╭─────────────── \u001b[1mviser\u001b[0m ───────────────╮\n",
       "│             ╷                       │\n",
       "│   HTTP      │ http://0.0.0.0:7007   │\n",
       "│   Websocket │ ws://0.0.0.0:7007     │\n",
       "│             ╵                       │\n",
       "╰─────────────────────────────────────╯\n"
      ]
     },
     "metadata": {},
     "output_type": "display_data"
    },
    {
     "name": "stderr",
     "output_type": "stream",
     "text": [
      "/tmp/ipykernel_1437935/2913160681.py:15: DeprecationWarning: ViserServer.add_box has been deprecated, use ViserServer.scene.add_box instead. Alternatively, pin to `viser<0.2.0`.\n",
      "  return scene.add_box(\n"
     ]
    },
    {
     "data": {
      "text/html": [
       "<pre style=\"white-space:pre;overflow-x:auto;line-height:normal;font-family:Menlo,'DejaVu Sans Mono',consolas,'Courier New',monospace\"><span style=\"font-weight: bold\">(viser)</span> Connection opened <span style=\"font-weight: bold\">(</span><span style=\"color: #008080; text-decoration-color: #008080; font-weight: bold\">0</span>, <span style=\"color: #008080; text-decoration-color: #008080; font-weight: bold\">1</span> total<span style=\"font-weight: bold\">)</span>, <span style=\"color: #008080; text-decoration-color: #008080; font-weight: bold\">8</span> persistent messages\n",
       "</pre>\n"
      ],
      "text/plain": [
       "\u001b[1m(\u001b[0m\u001b[1mviser\u001b[0m\u001b[1m)\u001b[0m Connection opened \u001b[1m(\u001b[0m\u001b[1;36m0\u001b[0m, \u001b[1;36m1\u001b[0m total\u001b[1m)\u001b[0m, \u001b[1;36m8\u001b[0m persistent messages\n"
      ]
     },
     "metadata": {},
     "output_type": "display_data"
    },
    {
     "data": {
      "text/plain": [
       "MeshHandle(_impl=_SceneNodeHandleState(name='/box01', api=<viser._scene_api.SceneApi object at 0x77de3bbcdb10>, wxyz=array([1., 0., 0., 0.]), position=array([ 0.00078896, -0.00108233, -0.00049361]), visible=True, click_cb=None))"
      ]
     },
     "execution_count": 6,
     "metadata": {},
     "output_type": "execute_result"
    }
   ],
   "source": [
    "server = viser.ViserServer(port=7007)\n",
    "\n",
    "server.scene.add_point_cloud(\n",
    "    name=\"/fruit\",\n",
    "    points=np.asarray(fruit.points),\n",
    "    colors=np.asarray(fruit.colors),\n",
    "    point_size=0.0002,\n",
    "    visible=True,\n",
    ")\n",
    "\n",
    "add_box_by_corners(\n",
    "    server,\n",
    "    name=\"/box01\",\n",
    "    aabb=aabb,\n",
    ")"
   ]
  },
  {
   "cell_type": "code",
   "execution_count": null,
   "id": "d7e6003b",
   "metadata": {},
   "outputs": [],
   "source": []
  }
 ],
 "metadata": {
  "kernelspec": {
   "display_name": "Python 3",
   "language": "python",
   "name": "python3"
  },
  "language_info": {
   "codemirror_mode": {
    "name": "ipython",
    "version": 3
   },
   "file_extension": ".py",
   "mimetype": "text/x-python",
   "name": "python",
   "nbconvert_exporter": "python",
   "pygments_lexer": "ipython3",
   "version": "3.10.12"
  }
 },
 "nbformat": 4,
 "nbformat_minor": 5
}
