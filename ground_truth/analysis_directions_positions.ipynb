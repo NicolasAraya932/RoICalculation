{
 "cells": [
  {
   "cell_type": "code",
   "execution_count": 1,
   "id": "8ea7e0f4",
   "metadata": {},
   "outputs": [
    {
     "name": "stdout",
     "output_type": "stream",
     "text": [
      "Jupyter environment detected. Enabling Open3D WebVisualizer.\n",
      "[Open3D INFO] WebRTC GUI backend enabled.\n",
      "[Open3D INFO] WebRTCWindowSystem: HTTP handshake server disabled.\n"
     ]
    }
   ],
   "source": [
    "import open3d as o3d\n",
    "import numpy as np\n",
    "import viser\n",
    "import torch\n",
    "from pathlib import Path"
   ]
  },
  {
   "cell_type": "code",
   "execution_count": 2,
   "id": "772af080",
   "metadata": {},
   "outputs": [],
   "source": [
    "raw_directions_path = Path(\"/workspace/Desktop/RoICalculation/directions/raw/\")\n",
    "encoded_directions_path = Path(\"/workspace/Desktop/RoICalculation/directions/encoded/\")\n",
    "normalized_directions_path = Path(\"/workspace/Desktop/RoICalculation/directions/normalized/\")\n",
    "\n",
    "raw_positions_path = Path(\"/workspace/Desktop/RoICalculation/positions/raw/\")\n",
    "encoded_positions_path = Path(\"/workspace/Desktop/RoICalculation/positions/encoded/\")\n",
    "normalized_positions_path = Path(\"/workspace/Desktop/RoICalculation/positions/normalized/\")"
   ]
  },
  {
   "cell_type": "markdown",
   "id": "d7d71f6d",
   "metadata": {},
   "source": [
    "## Direction"
   ]
  },
  {
   "cell_type": "code",
   "execution_count": 7,
   "id": "a3489190",
   "metadata": {},
   "outputs": [
    {
     "name": "stdout",
     "output_type": "stream",
     "text": [
      "[[-0.035   0.6245 -0.7803]\n",
      " [-0.035   0.6245 -0.7803]\n",
      " [-0.035   0.6245 -0.7803]\n",
      " [-0.035   0.6245 -0.7803]\n",
      " [-0.035   0.6245 -0.7803]\n",
      " [-0.035   0.6245 -0.7803]\n",
      " [-0.035   0.6245 -0.7803]\n",
      " [-0.035   0.6245 -0.7803]\n",
      " [-0.035   0.6245 -0.7803]\n",
      " [-0.035   0.6245 -0.7803]\n",
      " [-0.035   0.6245 -0.7803]\n",
      " [-0.035   0.6245 -0.7803]\n",
      " [-0.035   0.6245 -0.7803]\n",
      " [-0.035   0.6245 -0.7803]\n",
      " [-0.035   0.6245 -0.7803]\n",
      " [-0.035   0.6245 -0.7803]\n",
      " [-0.035   0.6245 -0.7803]\n",
      " [-0.035   0.6245 -0.7803]\n",
      " [-0.035   0.6245 -0.7803]\n",
      " [-0.035   0.6245 -0.7803]\n",
      " [-0.035   0.6245 -0.7803]\n",
      " [-0.035   0.6245 -0.7803]\n",
      " [-0.035   0.6245 -0.7803]\n",
      " [-0.035   0.6245 -0.7803]\n",
      " [-0.035   0.6245 -0.7803]\n",
      " [-0.035   0.6245 -0.7803]\n",
      " [-0.035   0.6245 -0.7803]\n",
      " [-0.035   0.6245 -0.7803]\n",
      " [-0.035   0.6245 -0.7803]\n",
      " [-0.035   0.6245 -0.7803]\n",
      " [-0.035   0.6245 -0.7803]\n",
      " [-0.035   0.6245 -0.7803]\n",
      " [-0.035   0.6245 -0.7803]\n",
      " [-0.035   0.6245 -0.7803]\n",
      " [-0.035   0.6245 -0.7803]\n",
      " [-0.035   0.6245 -0.7803]\n",
      " [-0.035   0.6245 -0.7803]\n",
      " [-0.035   0.6245 -0.7803]\n",
      " [-0.035   0.6245 -0.7803]\n",
      " [-0.035   0.6245 -0.7803]\n",
      " [-0.035   0.6245 -0.7803]\n",
      " [-0.035   0.6245 -0.7803]\n",
      " [-0.035   0.6245 -0.7803]\n",
      " [-0.035   0.6245 -0.7803]\n",
      " [-0.035   0.6245 -0.7803]\n",
      " [-0.035   0.6245 -0.7803]\n",
      " [-0.035   0.6245 -0.7803]\n",
      " [-0.035   0.6245 -0.7803]]\n"
     ]
    }
   ],
   "source": [
    "# Raw Directions\n",
    "files = sorted(list(raw_directions_path.glob(\"*.pt\")))\n",
    "\n",
    "test = torch.load(files[0])  # Load the first file to check its structure\n",
    "\n",
    "print(np.asarray(test.detach())[0])"
   ]
  },
  {
   "cell_type": "code",
   "execution_count": 5,
   "id": "374195e3",
   "metadata": {},
   "outputs": [
    {
     "name": "stdout",
     "output_type": "stream",
     "text": [
      "[[ 0.282   -0.3054  -0.3813  ...  0.03284  0.4392  -0.02428]\n",
      " [ 0.282   -0.3054  -0.3813  ...  0.03284  0.4392  -0.02428]\n",
      " [ 0.282   -0.3054  -0.3813  ...  0.03284  0.4392  -0.02428]\n",
      " ...\n",
      " [ 0.282    0.4841   0.04056 ...  0.04654 -0.1164   0.1825 ]\n",
      " [ 0.282    0.4841   0.04056 ...  0.04654 -0.1164   0.1825 ]\n",
      " [ 0.282    0.4841   0.04056 ...  0.04654 -0.1164   0.1825 ]]\n"
     ]
    }
   ],
   "source": [
    "# Encoded Directions\n",
    "files = sorted(list(encoded_directions_path.glob(\"*.pt\")))\n",
    "\n",
    "test = torch.load(files[0])  # Load the first file to check its structure\n",
    "\n",
    "print(np.asarray(test.detach()))"
   ]
  },
  {
   "cell_type": "code",
   "execution_count": 6,
   "id": "d73ae063",
   "metadata": {},
   "outputs": [
    {
     "name": "stdout",
     "output_type": "stream",
     "text": [
      "[[[0.4824  0.8125  0.10986]\n",
      "  [0.4824  0.8125  0.10986]\n",
      "  [0.4824  0.8125  0.10986]\n",
      "  ...\n",
      "  [0.4824  0.8125  0.10986]\n",
      "  [0.4824  0.8125  0.10986]\n",
      "  [0.4824  0.8125  0.10986]]\n",
      "\n",
      " [[0.2034  0.626   0.11743]\n",
      "  [0.2034  0.626   0.11743]\n",
      "  [0.2034  0.626   0.11743]\n",
      "  ...\n",
      "  [0.2034  0.626   0.11743]\n",
      "  [0.2034  0.626   0.11743]\n",
      "  [0.2034  0.626   0.11743]]\n",
      "\n",
      " [[0.315   0.6035  0.04712]\n",
      "  [0.315   0.6035  0.04712]\n",
      "  [0.315   0.6035  0.04712]\n",
      "  ...\n",
      "  [0.315   0.6035  0.04712]\n",
      "  [0.315   0.6035  0.04712]\n",
      "  [0.315   0.6035  0.04712]]\n",
      "\n",
      " ...\n",
      "\n",
      " [[0.4915  0.0725  0.241  ]\n",
      "  [0.4915  0.0725  0.241  ]\n",
      "  [0.4915  0.0725  0.241  ]\n",
      "  ...\n",
      "  [0.4915  0.0725  0.241  ]\n",
      "  [0.4915  0.0725  0.241  ]\n",
      "  [0.4915  0.0725  0.241  ]]\n",
      "\n",
      " [[0.454   0.00586 0.4395 ]\n",
      "  [0.454   0.00586 0.4395 ]\n",
      "  [0.454   0.00586 0.4395 ]\n",
      "  ...\n",
      "  [0.454   0.00586 0.4395 ]\n",
      "  [0.454   0.00586 0.4395 ]\n",
      "  [0.454   0.00586 0.4395 ]]\n",
      "\n",
      " [[0.5527  0.00464 0.5415 ]\n",
      "  [0.5527  0.00464 0.5415 ]\n",
      "  [0.5527  0.00464 0.5415 ]\n",
      "  ...\n",
      "  [0.5527  0.00464 0.5415 ]\n",
      "  [0.5527  0.00464 0.5415 ]\n",
      "  [0.5527  0.00464 0.5415 ]]]\n"
     ]
    }
   ],
   "source": [
    "# Normalized Directions\n",
    "files = sorted(list(normalized_directions_path.glob(\"*.pt\")))\n",
    "\n",
    "test = torch.load(files[0])  # Load the first file to check its structure\n",
    "\n",
    "print(np.asarray(test.detach()))"
   ]
  },
  {
   "cell_type": "markdown",
   "id": "04e97cde",
   "metadata": {},
   "source": [
    "## Position"
   ]
  },
  {
   "cell_type": "code",
   "execution_count": 6,
   "id": "5e7cb100",
   "metadata": {},
   "outputs": [
    {
     "data": {
      "text/html": [
       "<pre style=\"white-space:pre;overflow-x:auto;line-height:normal;font-family:Menlo,'DejaVu Sans Mono',consolas,'Courier New',monospace\">╭─────────────── <span style=\"font-weight: bold\">viser</span> ───────────────╮\n",
       "│             ╷                       │\n",
       "│   HTTP      │ http://0.0.0.0:8080   │\n",
       "│   Websocket │ ws://0.0.0.0:8080     │\n",
       "│             ╵                       │\n",
       "╰─────────────────────────────────────╯\n",
       "</pre>\n"
      ],
      "text/plain": [
       "╭─────────────── \u001b[1mviser\u001b[0m ───────────────╮\n",
       "│             ╷                       │\n",
       "│   HTTP      │ http://0.0.0.0:8080   │\n",
       "│   Websocket │ ws://0.0.0.0:8080     │\n",
       "│             ╵                       │\n",
       "╰─────────────────────────────────────╯\n"
      ]
     },
     "metadata": {},
     "output_type": "display_data"
    },
    {
     "data": {
      "text/plain": [
       "PointCloudHandle(_impl=_SceneNodeHandleState(name='/raw_positions', api=<viser._scene_api.SceneApi object at 0x73969e3d0400>, wxyz=array([1., 0., 0., 0.]), position=array([0., 0., 0.]), visible=True, click_cb=None))"
      ]
     },
     "execution_count": 6,
     "metadata": {},
     "output_type": "execute_result"
    }
   ],
   "source": [
    "# Raw Positions\n",
    "files = sorted(list(raw_positions_path.glob(\"*.pt\")))\n",
    "\n",
    "test = torch.load(files[0]).detach().numpy()  # Load the first file to check its structure\n",
    "\n",
    "test_copy = test.copy()\n",
    "original_shape = test.shape\n",
    "\n",
    "test = test.reshape(-1,3).astype(np.float64)\n",
    "\n",
    "pcd = o3d.geometry.PointCloud()\n",
    "pcd.points = o3d.utility.Vector3dVector(test)  # Ensure float64 type\n",
    "\n",
    "server = viser.ViserServer()\n",
    "\n",
    "server.scene.add_point_cloud(\n",
    "    name=\"/raw_positions\",\n",
    "    points=np.asarray(pcd.points),\n",
    "    colors=[0,0,0],#np.asarray(pcd.colors),\n",
    "    point_size=0.0001,\n",
    ")\n"
   ]
  },
  {
   "cell_type": "code",
   "execution_count": 5,
   "id": "4a72bcad",
   "metadata": {},
   "outputs": [
    {
     "name": "stdout",
     "output_type": "stream",
     "text": [
      "torch.Size([196608, 12])\n",
      "[[ 0.5483   0.8364   0.917   ...  0.9014   0.781    0.625  ]\n",
      " [ 0.5405   0.8413   0.909   ...  0.9717   0.4578   0.889  ]\n",
      " [ 0.537    0.8438   0.9062  ...  0.989    0.2974   0.9546 ]\n",
      " ...\n",
      " [ 0.659   -0.752   -0.991   ... -0.667   -0.9937  -0.11066]\n",
      " [-0.02417  0.9995  -0.0483  ...  0.5728  -0.939   -0.344  ]\n",
      " [-0.9736  -0.2281   0.4443  ...  0.3142   0.5967  -0.8027 ]]\n"
     ]
    }
   ],
   "source": [
    "# Encoded Positions\n",
    "files = sorted(list(encoded_positions_path.glob(\"*.pt\")))\n",
    "test = torch.load(files[0])  # Load the first file to check its structure\n",
    "print(test.shape)\n",
    "print(np.asarray(test.detach()))"
   ]
  },
  {
   "cell_type": "code",
   "execution_count": 6,
   "id": "01d7e694",
   "metadata": {},
   "outputs": [
    {
     "name": "stdout",
     "output_type": "stream",
     "text": [
      "torch.Size([4096, 48, 3])\n",
      "[[[ 5.9234601e-01  4.5614472e-01  5.7126421e-01]\n",
      "  [ 5.9084666e-01  4.8289597e-01  5.3784084e-01]\n",
      "  [ 5.9022683e-01  4.9395463e-01  5.2402401e-01]\n",
      "  ...\n",
      "  [ 5.3712130e-01  1.4414277e+00 -6.5976179e-01]\n",
      "  [ 4.9881828e-01  2.1248035e+00 -1.5135810e+00]\n",
      "  [ 2.3047096e-01  6.9124756e+00 -7.4953642e+00]]\n",
      "\n",
      " [[ 5.2968031e-01  4.1858315e-01  5.6776190e-01]\n",
      "  [ 5.0041491e-01  4.3098783e-01  5.3001797e-01]\n",
      "  [ 4.8677087e-01  4.3677109e-01  5.1242107e-01]\n",
      "  ...\n",
      "  [-4.3357146e-01  8.2687509e-01 -6.7455542e-01]\n",
      "  [-1.1480309e+00  1.1297117e+00 -1.5960023e+00]\n",
      "  [-8.2795830e+00  4.1525507e+00 -1.0793650e+01]]\n",
      "\n",
      " [[ 5.6504363e-01  4.0778303e-01  5.7745588e-01]\n",
      "  [ 5.4529381e-01  4.1882467e-01  5.2909160e-01]\n",
      "  [ 5.2983117e-01  4.2746946e-01  4.9122602e-01]\n",
      "  ...\n",
      "  [ 6.1037540e-02  6.8956071e-01 -6.5677691e-01]\n",
      "  [-2.0851845e-01  8.4026301e-01 -1.3168777e+00]\n",
      "  [-1.1301723e+00  1.3555374e+00 -3.5738649e+00]]\n",
      "\n",
      " ...\n",
      "\n",
      " [[ 6.0967004e-01  8.2464468e-01  4.6054685e-01]\n",
      "  [ 6.0881871e-01  7.8235763e-01  4.3492347e-01]\n",
      "  [ 6.0794556e-01  7.3898339e-01  4.0864134e-01]\n",
      "  ...\n",
      "  [ 5.8704460e-01 -2.9924411e-01 -2.2046167e-01]\n",
      "  [ 5.7569528e-01 -8.6300707e-01 -5.6206787e-01]\n",
      "  [ 5.4076678e-01 -2.5980375e+00 -1.6133914e+00]]\n",
      "\n",
      " [[ 6.0355926e-01  8.1087822e-01  4.9082029e-01]\n",
      "  [ 5.9842449e-01  7.5574404e-01  4.8405451e-01]\n",
      "  [ 5.9415603e-01  7.0991194e-01  4.7843024e-01]\n",
      "  ...\n",
      "  [ 4.8147416e-01 -4.9999851e-01  3.2995617e-01]\n",
      "  [ 4.1908634e-01 -1.1698816e+00  2.4775150e-01]\n",
      "  [ 2.2166377e-01 -3.2896867e+00 -1.2380183e-02]]\n",
      "\n",
      " [[ 6.2003595e-01  8.0582672e-01  5.0773996e-01]\n",
      "  [ 6.2414736e-01  7.6716131e-01  5.1097721e-01]\n",
      "  [ 6.2951297e-01  7.1670109e-01  5.1520187e-01]\n",
      "  ...\n",
      "  [ 4.8854246e+00 -3.9307610e+01  3.8661776e+00]\n",
      "  [ 5.4961543e+00 -4.5051159e+01  4.3470478e+00]\n",
      "  [ 7.2133660e+00 -6.1200512e+01  5.6991282e+00]]]\n"
     ]
    }
   ],
   "source": [
    "# Normalized Positions\n",
    "files = sorted(list(normalized_positions_path.glob(\"*.pt\")))\n",
    "test = torch.load(files[0])  # Load the first file to check its structure\n",
    "print(test.shape)\n",
    "print(np.asarray(test.detach()))"
   ]
  }
 ],
 "metadata": {
  "kernelspec": {
   "display_name": "Python 3",
   "language": "python",
   "name": "python3"
  },
  "language_info": {
   "codemirror_mode": {
    "name": "ipython",
    "version": 3
   },
   "file_extension": ".py",
   "mimetype": "text/x-python",
   "name": "python",
   "nbconvert_exporter": "python",
   "pygments_lexer": "ipython3",
   "version": "3.10.12"
  }
 },
 "nbformat": 4,
 "nbformat_minor": 5
}
