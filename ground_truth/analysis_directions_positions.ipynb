{
 "cells": [
  {
   "cell_type": "code",
   "execution_count": 1,
   "id": "8ea7e0f4",
   "metadata": {},
   "outputs": [
    {
     "name": "stdout",
     "output_type": "stream",
     "text": [
      "Jupyter environment detected. Enabling Open3D WebVisualizer.\n",
      "[Open3D INFO] WebRTC GUI backend enabled.\n",
      "[Open3D INFO] WebRTCWindowSystem: HTTP handshake server disabled.\n"
     ]
    },
    {
     "data": {
      "text/html": [
       "<pre style=\"white-space:pre;overflow-x:auto;line-height:normal;font-family:Menlo,'DejaVu Sans Mono',consolas,'Courier New',monospace\">╭─────────────── <span style=\"font-weight: bold\">viser</span> ───────────────╮\n",
       "│             ╷                       │\n",
       "│   HTTP      │ http://0.0.0.0:7007   │\n",
       "│   Websocket │ ws://0.0.0.0:7007     │\n",
       "│             ╵                       │\n",
       "╰─────────────────────────────────────╯\n",
       "</pre>\n"
      ],
      "text/plain": [
       "╭─────────────── \u001b[1mviser\u001b[0m ───────────────╮\n",
       "│             ╷                       │\n",
       "│   HTTP      │ http://0.0.0.0:7007   │\n",
       "│   Websocket │ ws://0.0.0.0:7007     │\n",
       "│             ╵                       │\n",
       "╰─────────────────────────────────────╯\n"
      ]
     },
     "metadata": {},
     "output_type": "display_data"
    }
   ],
   "source": [
    "import open3d as o3d\n",
    "import numpy as np\n",
    "import viser\n",
    "import torch\n",
    "from pathlib import Path\n",
    "from attachment.scripts.aabb_merge import tensor_to_aabbs\n",
    "\n",
    "server = viser.ViserServer(port=7007)"
   ]
  },
  {
   "cell_type": "code",
   "execution_count": 2,
   "id": "68090014",
   "metadata": {},
   "outputs": [],
   "source": [
    "early_directions_ends = Path(\"/workspace/Desktop/RoICalculation/early/ends/\")\n",
    "early_directions_starts = Path(\"/workspace/Desktop/RoICalculation/early/starts/\")\n",
    "early_directions_origins = Path(\"/workspace/Desktop/RoICalculation/early/origins/\")\n",
    "early_raw_directions_path = Path(\"/workspace/Desktop/RoICalculation/early/directions/raw/\")\n",
    "early_encoded_directions_path = Path(\"/workspace/Desktop/RoICalculation/early/directions/encoded/\")\n",
    "early_normalized_directions_path = Path(\"/workspace/Desktop/RoICalculation/early/directions/normalized/\")\n",
    "\n",
    "early_raw_positions_path = Path(\"/workspace/Desktop/RoICalculation/early/positions/raw/\")\n",
    "early_encoded_positions_path = Path(\"/workspace/Desktop/RoICalculation/early/positions/encoded/\")\n",
    "early_normalized_positions_path = Path(\"/workspace/Desktop/RoICalculation/early/positions/normalized/\")"
   ]
  },
  {
   "cell_type": "code",
   "execution_count": 3,
   "id": "772af080",
   "metadata": {},
   "outputs": [],
   "source": [
    "directions_ends = Path(\"/workspace/Desktop/RoICalculation/ends/\")\n",
    "directions_starts = Path(\"/workspace/Desktop/RoICalculation/starts/\")\n",
    "directions_origins = Path(\"/workspace/Desktop/RoICalculation/origins/\")\n",
    "raw_directions_path = Path(\"/workspace/Desktop/RoICalculation/directions/raw/\")\n",
    "encoded_directions_path = Path(\"/workspace/Desktop/RoICalculation/directions/encoded/\")\n",
    "normalized_directions_path = Path(\"/workspace/Desktop/RoICalculation/directions/normalized/\")\n",
    "\n",
    "raw_positions_path = Path(\"/workspace/Desktop/RoICalculation/positions/raw/\")\n",
    "encoded_positions_path = Path(\"/workspace/Desktop/RoICalculation/positions/encoded/\")\n",
    "normalized_positions_path = Path(\"/workspace/Desktop/RoICalculation/positions/normalized/\")"
   ]
  },
  {
   "cell_type": "markdown",
   "id": "992f01da",
   "metadata": {},
   "source": [
    "## Early"
   ]
  },
  {
   "cell_type": "markdown",
   "id": "5448025a",
   "metadata": {},
   "source": [
    "### Direction"
   ]
  },
  {
   "cell_type": "code",
   "execution_count": 4,
   "id": "bf359366",
   "metadata": {},
   "outputs": [],
   "source": [
    "early_directions_ends_files = sorted(list(early_directions_ends.glob(\"*.pt\")))\n",
    "early_directions_starts_files = sorted(list(early_directions_starts.glob(\"*.pt\")))\n",
    "early_directions_origins_files = sorted(list(early_directions_origins.glob(\"*.pt\")))\n",
    "early_raw_directions_files = sorted(list(early_raw_directions_path.glob(\"*.pt\")))\n",
    "early_encoded_directions_files = sorted(list(early_encoded_directions_path.glob(\"*.pt\")))\n",
    "early_normalized_directions_files = sorted(list(early_normalized_directions_path.glob(\"*.pt\")))\n",
    "\n",
    "early_raw_positions_files = sorted(list(early_raw_positions_path.glob(\"*.pt\")))\n",
    "early_encoded_positions_files = sorted(list(early_encoded_positions_path.glob(\"*.pt\")))\n",
    "early_normalized_positions_files = sorted(list(early_normalized_positions_path.glob(\"*.pt\")))"
   ]
  },
  {
   "cell_type": "markdown",
   "id": "0820b4e8",
   "metadata": {},
   "source": [
    "### Positions"
   ]
  },
  {
   "cell_type": "code",
   "execution_count": null,
   "id": "e5d410ea",
   "metadata": {},
   "outputs": [
    {
     "data": {
      "text/plain": [
       "PointCloudHandle(_impl=_SceneNodeHandleState(name='/early_raw_positions_2', api=<viser._scene_api.SceneApi object at 0x75e1eaf6ece0>, wxyz=array([1., 0., 0., 0.]), position=array([0., 0., 0.]), visible=True, click_cb=None))"
      ]
     },
     "execution_count": 17,
     "metadata": {},
     "output_type": "execute_result"
    }
   ],
   "source": [
    "early_raw_positions = torch.load(early_raw_directions_files[250]).detach()  # Load the first file to check its structure\n",
    "\n",
    "early_raw_positions = early_raw_positions.reshape(-1,3)\n",
    "\n",
    "pcd_early_raw_points = o3d.geometry.PointCloud()\n",
    "pcd_early_raw_points.points = o3d.utility.Vector3dVector(early_raw_positions.numpy())  # Ensure float64 type\n",
    "\n",
    "\n",
    "server.scene.add_point_cloud(\n",
    "    name=\"/early_raw_positions\",\n",
    "    points=np.asarray(pcd_early_raw_points.points),\n",
    "    colors=[0,0,0],#np.asarray(pcd.colors),\n",
    "    point_size=0.0001,\n",
    ")\n"
   ]
  },
  {
   "cell_type": "markdown",
   "id": "e0082875",
   "metadata": {},
   "source": [
    "## Last"
   ]
  },
  {
   "cell_type": "code",
   "execution_count": null,
   "id": "a1b3d617",
   "metadata": {},
   "outputs": [],
   "source": [
    "last_directions_ends_files = sorted(list(early_directions_ends.glob(\"*.pt\")))\n",
    "last_directions_starts_files = sorted(list(early_directions_starts.glob(\"*.pt\")))\n",
    "last_directions_origins_files = sorted(list(early_directions_origins.glob(\"*.pt\")))\n",
    "last_raw_directions_files = sorted(list(early_raw_directions_path.glob(\"*.pt\")))\n",
    "last_encoded_directions_files = sorted(list(early_encoded_directions_path.glob(\"*.pt\")))\n",
    "last_normalized_directions_files = sorted(list(early_normalized_directions_path.glob(\"*.pt\")))\n",
    "\n",
    "last_raw_positions_files = sorted(list(early_raw_positions_path.glob(\"*.pt\")))\n",
    "last_encoded_positions_files = sorted(list(early_encoded_positions_path.glob(\"*.pt\")))\n",
    "last_normalized_positions_files = sorted(list(early_normalized_positions_path.glob(\"*.pt\")))"
   ]
  },
  {
   "cell_type": "markdown",
   "id": "d7d71f6d",
   "metadata": {},
   "source": [
    "### Direction"
   ]
  },
  {
   "cell_type": "code",
   "execution_count": 6,
   "id": "c1fff798",
   "metadata": {},
   "outputs": [
    {
     "name": "stdout",
     "output_type": "stream",
     "text": [
      "torch.Size([4096, 48, 1])\n",
      "torch.Size([4096, 48, 1])\n",
      "torch.Size([4096, 48, 3])\n"
     ]
    }
   ],
   "source": [
    "directions_ends_files = sorted(list(directions_ends.glob(\"*.pt\")))\n",
    "directions_starts_files = sorted(list(directions_starts.glob(\"*.pt\")))\n",
    "directions_origins_files = sorted(list(directions_origins.glob(\"*.pt\")))\n",
    "\n",
    "# Values of *_29501.pt\n",
    "\n",
    "ends    = torch.load(directions_ends_files[0])\n",
    "starts  = torch.load(directions_starts_files[0])\n",
    "origins = torch.load(directions_origins_files[0])\n",
    "\n",
    "# Shapes\n",
    "print(ends.shape)\n",
    "print(starts.shape)\n",
    "print(origins.shape)"
   ]
  },
  {
   "cell_type": "code",
   "execution_count": null,
   "id": "377c147e",
   "metadata": {},
   "outputs": [
    {
     "data": {
      "text/plain": [
       "PointCloudHandle(_impl=_SceneNodeHandleState(name='/origins_original', api=<viser._scene_api.SceneApi object at 0x75e1eaf6ece0>, wxyz=array([1., 0., 0., 0.]), position=array([0., 0., 0.]), visible=True, click_cb=None))"
      ]
     },
     "execution_count": 8,
     "metadata": {},
     "output_type": "execute_result"
    }
   ],
   "source": [
    "# Origins Visualization\n",
    "\n",
    "server.scene.add_point_cloud(\n",
    "    name=\"/origins_original\",\n",
    "    points=np.asarray(origins.reshape(-1,3).detach()),\n",
    "    colors=np.asarray([0, 0, 0]),\n",
    "    point_size=0.01,\n",
    "    point_shape=\"circle\"\n",
    ")"
   ]
  },
  {
   "cell_type": "code",
   "execution_count": 9,
   "id": "a3489190",
   "metadata": {},
   "outputs": [
    {
     "name": "stdout",
     "output_type": "stream",
     "text": [
      "[[-0.03506  0.624   -0.7803 ]\n",
      " [-0.03506  0.624   -0.7803 ]\n",
      " [-0.03506  0.624   -0.7803 ]\n",
      " ...\n",
      " [ 0.1055  -0.9907   0.08356]\n",
      " [ 0.1055  -0.9907   0.08356]\n",
      " [ 0.1055  -0.9907   0.08356]]\n"
     ]
    }
   ],
   "source": [
    "# Raw Directions\n",
    "files = sorted(list(raw_directions_path.glob(\"*.pt\")))\n",
    "\n",
    "test_0 = torch.load(files[0])  # Load the first file to check its structure\n",
    "original_shape = test_0.shape\n",
    "test_0 = test_0.reshape(-1,3)\n",
    "\n",
    "print(np.asarray(test_0.detach()))"
   ]
  },
  {
   "cell_type": "code",
   "execution_count": 10,
   "id": "374195e3",
   "metadata": {},
   "outputs": [
    {
     "name": "stdout",
     "output_type": "stream",
     "text": [
      "[[ 0.282   -0.305   -0.3813  ...  0.03284  0.4377  -0.0242 ]\n",
      " [ 0.282   -0.305   -0.3813  ...  0.03284  0.4377  -0.0242 ]\n",
      " [ 0.282   -0.305   -0.3813  ...  0.03284  0.4377  -0.0242 ]\n",
      " ...\n",
      " [ 0.282    0.4841   0.04105 ...  0.0465  -0.1178   0.1825 ]\n",
      " [ 0.282    0.4841   0.04105 ...  0.0465  -0.1178   0.1825 ]\n",
      " [ 0.282    0.4841   0.04105 ...  0.0465  -0.1178   0.1825 ]]\n"
     ]
    }
   ],
   "source": [
    "# Encoded Directions\n",
    "files = sorted(list(encoded_directions_path.glob(\"*.pt\")))\n",
    "\n",
    "test = torch.load(files[0])  # Load the first file to check its structure\n",
    "\n",
    "print(np.asarray(test.detach()))"
   ]
  },
  {
   "cell_type": "code",
   "execution_count": 11,
   "id": "d73ae063",
   "metadata": {},
   "outputs": [
    {
     "name": "stdout",
     "output_type": "stream",
     "text": [
      "[[[0.4824  0.812   0.10986]\n",
      "  [0.4824  0.812   0.10986]\n",
      "  [0.4824  0.812   0.10986]\n",
      "  ...\n",
      "  [0.4824  0.812   0.10986]\n",
      "  [0.4824  0.812   0.10986]\n",
      "  [0.4824  0.812   0.10986]]\n",
      "\n",
      " [[0.2031  0.6255  0.1177 ]\n",
      "  [0.2031  0.6255  0.1177 ]\n",
      "  [0.2031  0.6255  0.1177 ]\n",
      "  ...\n",
      "  [0.2031  0.6255  0.1177 ]\n",
      "  [0.2031  0.6255  0.1177 ]\n",
      "  [0.2031  0.6255  0.1177 ]]\n",
      "\n",
      " [[0.315   0.6035  0.04712]\n",
      "  [0.315   0.6035  0.04712]\n",
      "  [0.315   0.6035  0.04712]\n",
      "  ...\n",
      "  [0.315   0.6035  0.04712]\n",
      "  [0.315   0.6035  0.04712]\n",
      "  [0.315   0.6035  0.04712]]\n",
      "\n",
      " ...\n",
      "\n",
      " [[0.4915  0.07227 0.2412 ]\n",
      "  [0.4915  0.07227 0.2412 ]\n",
      "  [0.4915  0.07227 0.2412 ]\n",
      "  ...\n",
      "  [0.4915  0.07227 0.2412 ]\n",
      "  [0.4915  0.07227 0.2412 ]\n",
      "  [0.4915  0.07227 0.2412 ]]\n",
      "\n",
      " [[0.454   0.00586 0.4397 ]\n",
      "  [0.454   0.00586 0.4397 ]\n",
      "  [0.454   0.00586 0.4397 ]\n",
      "  ...\n",
      "  [0.454   0.00586 0.4397 ]\n",
      "  [0.454   0.00586 0.4397 ]\n",
      "  [0.454   0.00586 0.4397 ]]\n",
      "\n",
      " [[0.5527  0.00464 0.542  ]\n",
      "  [0.5527  0.00464 0.542  ]\n",
      "  [0.5527  0.00464 0.542  ]\n",
      "  ...\n",
      "  [0.5527  0.00464 0.542  ]\n",
      "  [0.5527  0.00464 0.542  ]\n",
      "  [0.5527  0.00464 0.542  ]]]\n"
     ]
    }
   ],
   "source": [
    "# Normalized Directions\n",
    "files = sorted(list(normalized_directions_path.glob(\"*.pt\")))\n",
    "\n",
    "test = torch.load(files[0])  # Load the first file to check its structure\n",
    "\n",
    "print(np.asarray(test.detach()))"
   ]
  },
  {
   "cell_type": "markdown",
   "id": "04e97cde",
   "metadata": {},
   "source": [
    "## Position"
   ]
  },
  {
   "cell_type": "code",
   "execution_count": null,
   "id": "5e7cb100",
   "metadata": {},
   "outputs": [
    {
     "ename": "RuntimeError",
     "evalue": "",
     "output_type": "error",
     "traceback": [
      "\u001b[0;31m---------------------------------------------------------------------------\u001b[0m",
      "\u001b[0;31mRuntimeError\u001b[0m                              Traceback (most recent call last)",
      "Cell \u001b[0;32mIn[13], line 16\u001b[0m\n\u001b[1;32m     13\u001b[0m pcd_test\u001b[38;5;241m.\u001b[39mpoints \u001b[38;5;241m=\u001b[39m o3d\u001b[38;5;241m.\u001b[39mutility\u001b[38;5;241m.\u001b[39mVector3dVector(test)  \u001b[38;5;66;03m# Ensure float64 type\u001b[39;00m\n\u001b[1;32m     15\u001b[0m pcd_test_2 \u001b[38;5;241m=\u001b[39m o3d\u001b[38;5;241m.\u001b[39mgeometry\u001b[38;5;241m.\u001b[39mPointCloud()\n\u001b[0;32m---> 16\u001b[0m pcd_test_2\u001b[38;5;241m.\u001b[39mpoints \u001b[38;5;241m=\u001b[39m \u001b[43mo3d\u001b[49m\u001b[38;5;241;43m.\u001b[39;49m\u001b[43mutility\u001b[49m\u001b[38;5;241;43m.\u001b[39;49m\u001b[43mVector3dVector\u001b[49m\u001b[43m(\u001b[49m\u001b[43mtest_2\u001b[49m\u001b[43m)\u001b[49m  \u001b[38;5;66;03m# Ensure float64 type\u001b[39;00m\n\u001b[1;32m     18\u001b[0m server\u001b[38;5;241m.\u001b[39mscene\u001b[38;5;241m.\u001b[39madd_point_cloud(\n\u001b[1;32m     19\u001b[0m     name\u001b[38;5;241m=\u001b[39m\u001b[38;5;124m\"\u001b[39m\u001b[38;5;124m/raw_positions\u001b[39m\u001b[38;5;124m\"\u001b[39m,\n\u001b[1;32m     20\u001b[0m     points\u001b[38;5;241m=\u001b[39mnp\u001b[38;5;241m.\u001b[39masarray(pcd_test\u001b[38;5;241m.\u001b[39mpoints),\n\u001b[1;32m     21\u001b[0m     colors\u001b[38;5;241m=\u001b[39m[\u001b[38;5;241m0\u001b[39m,\u001b[38;5;241m0\u001b[39m,\u001b[38;5;241m0\u001b[39m],\u001b[38;5;66;03m#np.asarray(pcd.colors),\u001b[39;00m\n\u001b[1;32m     22\u001b[0m     point_size\u001b[38;5;241m=\u001b[39m\u001b[38;5;241m0.0001\u001b[39m,\n\u001b[1;32m     23\u001b[0m )\n\u001b[1;32m     25\u001b[0m server\u001b[38;5;241m.\u001b[39mscene\u001b[38;5;241m.\u001b[39madd_point_cloud(\n\u001b[1;32m     26\u001b[0m     name\u001b[38;5;241m=\u001b[39m\u001b[38;5;124m\"\u001b[39m\u001b[38;5;124m/raw_positions_cut\u001b[39m\u001b[38;5;124m\"\u001b[39m,\n\u001b[1;32m     27\u001b[0m     points\u001b[38;5;241m=\u001b[39mnp\u001b[38;5;241m.\u001b[39masarray(pcd_test_2\u001b[38;5;241m.\u001b[39mpoints),\n\u001b[1;32m     28\u001b[0m     colors\u001b[38;5;241m=\u001b[39m[\u001b[38;5;241m0\u001b[39m,\u001b[38;5;241m0\u001b[39m,\u001b[38;5;241m0\u001b[39m],\u001b[38;5;66;03m#np.asarray(pcd.colors),\u001b[39;00m\n\u001b[1;32m     29\u001b[0m     point_size\u001b[38;5;241m=\u001b[39m\u001b[38;5;241m0.0001\u001b[39m,\n\u001b[1;32m     30\u001b[0m )\n",
      "\u001b[0;31mRuntimeError\u001b[0m: "
     ]
    }
   ],
   "source": [
    "# Raw Positions\n",
    "files = sorted(list(raw_positions_path.glob(\"*.pt\")))\n",
    "\n",
    "test = torch.load(files[0]).detach().numpy()  # Load the first file to check its structure\n",
    "\n",
    "test_copy = test.copy()\n",
    "original_shape = test.shape\n",
    "\n",
    "test = test.reshape(-1,3).astype(np.float64)\n",
    "test_2 = test_copy[:,0,:].astype(np.float64)\n",
    "\n",
    "pcd_test = o3d.geometry.PointCloud()\n",
    "pcd_test.points = o3d.utility.Vector3dVector(test)  # Ensure float64 type\n",
    "\n",
    "pcd_test_2 = o3d.geometry.PointCloud()\n",
    "pcd_test_2.points = o3d.utility.Vector3dVector(test_2)  # Ensure float64 type\n",
    "\n",
    "server.scene.add_point_cloud(\n",
    "    name=\"/raw_positions\",\n",
    "    points=np.asarray(pcd_test.points),\n",
    "    colors=[0,0,0],#np.asarray(pcd.colors),\n",
    "    point_size=0.0001,\n",
    ")\n",
    "\n",
    "server.scene.add_point_cloud(\n",
    "    name=\"/raw_positions_cut\",\n",
    "    points=np.asarray(pcd_test_2.points),\n",
    "    colors=[0,0,0],#np.asarray(pcd.colors),\n",
    "    point_size=0.0001,\n",
    ")\n"
   ]
  },
  {
   "cell_type": "code",
   "execution_count": 5,
   "id": "4a72bcad",
   "metadata": {},
   "outputs": [
    {
     "name": "stdout",
     "output_type": "stream",
     "text": [
      "torch.Size([196608, 12])\n",
      "[[ 0.5483   0.8364   0.917   ...  0.9014   0.781    0.625  ]\n",
      " [ 0.5405   0.8413   0.909   ...  0.9717   0.4578   0.889  ]\n",
      " [ 0.537    0.8438   0.9062  ...  0.989    0.2974   0.9546 ]\n",
      " ...\n",
      " [ 0.659   -0.752   -0.991   ... -0.667   -0.9937  -0.11066]\n",
      " [-0.02417  0.9995  -0.0483  ...  0.5728  -0.939   -0.344  ]\n",
      " [-0.9736  -0.2281   0.4443  ...  0.3142   0.5967  -0.8027 ]]\n"
     ]
    }
   ],
   "source": [
    "# Encoded Positions\n",
    "files = sorted(list(encoded_positions_path.glob(\"*.pt\")))\n",
    "test = torch.load(files[0])  # Load the first file to check its structure\n",
    "print(test.shape)\n",
    "print(np.asarray(test.detach()))"
   ]
  },
  {
   "cell_type": "code",
   "execution_count": 6,
   "id": "01d7e694",
   "metadata": {},
   "outputs": [
    {
     "name": "stdout",
     "output_type": "stream",
     "text": [
      "torch.Size([4096, 48, 3])\n",
      "[[[ 5.9234601e-01  4.5614472e-01  5.7126421e-01]\n",
      "  [ 5.9084666e-01  4.8289597e-01  5.3784084e-01]\n",
      "  [ 5.9022683e-01  4.9395463e-01  5.2402401e-01]\n",
      "  ...\n",
      "  [ 5.3712130e-01  1.4414277e+00 -6.5976179e-01]\n",
      "  [ 4.9881828e-01  2.1248035e+00 -1.5135810e+00]\n",
      "  [ 2.3047096e-01  6.9124756e+00 -7.4953642e+00]]\n",
      "\n",
      " [[ 5.2968031e-01  4.1858315e-01  5.6776190e-01]\n",
      "  [ 5.0041491e-01  4.3098783e-01  5.3001797e-01]\n",
      "  [ 4.8677087e-01  4.3677109e-01  5.1242107e-01]\n",
      "  ...\n",
      "  [-4.3357146e-01  8.2687509e-01 -6.7455542e-01]\n",
      "  [-1.1480309e+00  1.1297117e+00 -1.5960023e+00]\n",
      "  [-8.2795830e+00  4.1525507e+00 -1.0793650e+01]]\n",
      "\n",
      " [[ 5.6504363e-01  4.0778303e-01  5.7745588e-01]\n",
      "  [ 5.4529381e-01  4.1882467e-01  5.2909160e-01]\n",
      "  [ 5.2983117e-01  4.2746946e-01  4.9122602e-01]\n",
      "  ...\n",
      "  [ 6.1037540e-02  6.8956071e-01 -6.5677691e-01]\n",
      "  [-2.0851845e-01  8.4026301e-01 -1.3168777e+00]\n",
      "  [-1.1301723e+00  1.3555374e+00 -3.5738649e+00]]\n",
      "\n",
      " ...\n",
      "\n",
      " [[ 6.0967004e-01  8.2464468e-01  4.6054685e-01]\n",
      "  [ 6.0881871e-01  7.8235763e-01  4.3492347e-01]\n",
      "  [ 6.0794556e-01  7.3898339e-01  4.0864134e-01]\n",
      "  ...\n",
      "  [ 5.8704460e-01 -2.9924411e-01 -2.2046167e-01]\n",
      "  [ 5.7569528e-01 -8.6300707e-01 -5.6206787e-01]\n",
      "  [ 5.4076678e-01 -2.5980375e+00 -1.6133914e+00]]\n",
      "\n",
      " [[ 6.0355926e-01  8.1087822e-01  4.9082029e-01]\n",
      "  [ 5.9842449e-01  7.5574404e-01  4.8405451e-01]\n",
      "  [ 5.9415603e-01  7.0991194e-01  4.7843024e-01]\n",
      "  ...\n",
      "  [ 4.8147416e-01 -4.9999851e-01  3.2995617e-01]\n",
      "  [ 4.1908634e-01 -1.1698816e+00  2.4775150e-01]\n",
      "  [ 2.2166377e-01 -3.2896867e+00 -1.2380183e-02]]\n",
      "\n",
      " [[ 6.2003595e-01  8.0582672e-01  5.0773996e-01]\n",
      "  [ 6.2414736e-01  7.6716131e-01  5.1097721e-01]\n",
      "  [ 6.2951297e-01  7.1670109e-01  5.1520187e-01]\n",
      "  ...\n",
      "  [ 4.8854246e+00 -3.9307610e+01  3.8661776e+00]\n",
      "  [ 5.4961543e+00 -4.5051159e+01  4.3470478e+00]\n",
      "  [ 7.2133660e+00 -6.1200512e+01  5.6991282e+00]]]\n"
     ]
    }
   ],
   "source": [
    "# Normalized Positions\n",
    "files = sorted(list(normalized_positions_path.glob(\"*.pt\")))\n",
    "test = torch.load(files[0])  # Load the first file to check its structure\n",
    "print(test.shape)\n",
    "print(np.asarray(test.detach()))"
   ]
  }
 ],
 "metadata": {
  "kernelspec": {
   "display_name": "Python 3",
   "language": "python",
   "name": "python3"
  },
  "language_info": {
   "codemirror_mode": {
    "name": "ipython",
    "version": 3
   },
   "file_extension": ".py",
   "mimetype": "text/x-python",
   "name": "python",
   "nbconvert_exporter": "python",
   "pygments_lexer": "ipython3",
   "version": "3.10.12"
  }
 },
 "nbformat": 4,
 "nbformat_minor": 5
}
